{
 "cells": [
  {
   "cell_type": "markdown",
   "metadata": {},
   "source": []
  },
  {
   "cell_type": "markdown",
   "metadata": {},
   "source": []
  },
  {
   "cell_type": "code",
   "execution_count": 6,
   "metadata": {},
   "outputs": [
    {
     "data": {
      "text/plain": [
       "PW_could_not_subtype_6E                                52\n",
       "SeroBA_PneumoCAT_fail_to_call_serotype                 33\n",
       "PW≠(SEROBA=PNEUMOCAT)                                  24\n",
       "All_different                                           8\n",
       "NOT_LANE_ID                                             7\n",
       "Pneumocat_result_suggest_mixed_strain_in_one_sample     5\n",
       "Name: description, dtype: int64"
      ]
     },
     "execution_count": 6,
     "metadata": {},
     "output_type": "execute_result"
    }
   ],
   "source": [
    "import pandas as pd\n",
    "df = pd.read_csv(\"discordances.tsv\", sep = '\\t', names = ['description', 'result'])\n",
    "df['description'].value_counts()"
   ]
  },
  {
   "cell_type": "code",
   "execution_count": 14,
   "metadata": {},
   "outputs": [
    {
     "data": {
      "text/plain": [
       "PW_could_not_subtype_6E                                52\n",
       "SeroBA_PneumoCAT_fail_to_call_serotype                 33\n",
       "PW≠(SEROBA=PNEUMOCAT)                                  24\n",
       "All_different                                           8\n",
       "NOT_LANE_ID                                             7\n",
       "Pneumocat_result_suggest_mixed_strain_in_one_sample     5\n",
       "Name: Final_comment, dtype: int64"
      ]
     },
     "execution_count": 14,
     "metadata": {},
     "output_type": "execute_result"
    }
   ],
   "source": [
    "complete_df = pd.read_excel(\"PW_serotyping_testing_15May2019.xlsx\")\n",
    "non_concordance = complete_df.loc[complete_df['Final_Concordance'] != 'CONCORDANCE']\n",
    "non_concordance['Final_comment'].value_counts()"
   ]
  },
  {
   "cell_type": "code",
   "execution_count": null,
   "metadata": {},
   "outputs": [],
   "source": []
  }
 ],
 "metadata": {
  "kernelspec": {
   "display_name": "Python 3",
   "language": "python",
   "name": "python3"
  },
  "language_info": {
   "codemirror_mode": {
    "name": "ipython",
    "version": 3
   },
   "file_extension": ".py",
   "mimetype": "text/x-python",
   "name": "python",
   "nbconvert_exporter": "python",
   "pygments_lexer": "ipython3",
   "version": "3.7.0"
  }
 },
 "nbformat": 4,
 "nbformat_minor": 2
}
